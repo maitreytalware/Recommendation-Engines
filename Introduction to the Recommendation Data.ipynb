{
 "cells": [
  {
   "cell_type": "markdown",
   "metadata": {},
   "source": [
    "### Recommendations with MovieTweetings: Getting to Know The Data\n",
    "\n",
    "Throughout this lesson, you will be working with the [MovieTweetings Data](https://github.com/sidooms/MovieTweetings/tree/master/recsyschallenge2014).  To get started, you can read more about this project and the dataset from the [publication here](http://crowdrec2013.noahlab.com.hk/papers/crowdrec2013_Dooms.pdf).\n",
    "\n",
    "**Note:** There are solutions to each of the notebooks available by hitting the orange jupyter logo in the top left of this notebook.  Additionally, you can watch me work through the solutions on the screencasts that follow each workbook. \n",
    "\n",
    "To get started, read in the libraries and the two datasets you will be using throughout the lesson using the code below.\n",
    "\n",
    " "
   ]
  },
  {
   "cell_type": "code",
   "execution_count": 1,
   "metadata": {},
   "outputs": [],
   "source": [
    "import numpy as np\n",
    "import pandas as pd\n",
    "import matplotlib.pyplot as plt\n",
    "import tests as t\n",
    "\n",
    "%matplotlib inline\n",
    "\n",
    "# Read in the datasets\n",
    "movies = pd.read_csv('https://raw.githubusercontent.com/sidooms/MovieTweetings/master/latest/movies.dat', delimiter='::', header=None, names=['movie_id', 'movie', 'genre'], dtype={'movie_id': object}, engine='python')\n",
    "reviews = pd.read_csv('https://raw.githubusercontent.com/sidooms/MovieTweetings/master/latest/ratings.dat', delimiter='::', header=None, names=['user_id', 'movie_id', 'rating', 'timestamp'], dtype={'movie_id': object, 'user_id': object, 'timestamp': object}, engine='python')"
   ]
  },
  {
   "cell_type": "markdown",
   "metadata": {},
   "source": [
    "#### 1. Take a Look At The Data \n",
    "\n",
    "Take a look at the data and use your findings to fill in the dictionary below with the correct responses to show your understanding of the data."
   ]
  },
  {
   "cell_type": "code",
   "execution_count": 2,
   "metadata": {},
   "outputs": [
    {
     "output_type": "execute_result",
     "data": {
      "text/plain": "  movie_id                                              movie  \\\n0  0000008      Edison Kinetoscopic Record of a Sneeze (1894)   \n1  0000010                La sortie des usines Lumière (1895)   \n2  0000012                      The Arrival of a Train (1896)   \n3       25  The Oxford and Cambridge University Boat Race ...   \n4  0000091                         Le manoir du diable (1896)   \n\n               genre  \n0  Documentary|Short  \n1  Documentary|Short  \n2  Documentary|Short  \n3                NaN  \n4       Short|Horror  ",
      "text/html": "<div>\n<style scoped>\n    .dataframe tbody tr th:only-of-type {\n        vertical-align: middle;\n    }\n\n    .dataframe tbody tr th {\n        vertical-align: top;\n    }\n\n    .dataframe thead th {\n        text-align: right;\n    }\n</style>\n<table border=\"1\" class=\"dataframe\">\n  <thead>\n    <tr style=\"text-align: right;\">\n      <th></th>\n      <th>movie_id</th>\n      <th>movie</th>\n      <th>genre</th>\n    </tr>\n  </thead>\n  <tbody>\n    <tr>\n      <th>0</th>\n      <td>0000008</td>\n      <td>Edison Kinetoscopic Record of a Sneeze (1894)</td>\n      <td>Documentary|Short</td>\n    </tr>\n    <tr>\n      <th>1</th>\n      <td>0000010</td>\n      <td>La sortie des usines Lumière (1895)</td>\n      <td>Documentary|Short</td>\n    </tr>\n    <tr>\n      <th>2</th>\n      <td>0000012</td>\n      <td>The Arrival of a Train (1896)</td>\n      <td>Documentary|Short</td>\n    </tr>\n    <tr>\n      <th>3</th>\n      <td>25</td>\n      <td>The Oxford and Cambridge University Boat Race ...</td>\n      <td>NaN</td>\n    </tr>\n    <tr>\n      <th>4</th>\n      <td>0000091</td>\n      <td>Le manoir du diable (1896)</td>\n      <td>Short|Horror</td>\n    </tr>\n  </tbody>\n</table>\n</div>"
     },
     "metadata": {},
     "execution_count": 2
    }
   ],
   "source": [
    "# cell for work\n",
    "movies.head()"
   ]
  },
  {
   "cell_type": "code",
   "execution_count": 3,
   "metadata": {},
   "outputs": [
    {
     "output_type": "execute_result",
     "data": {
      "text/plain": "  user_id  movie_id  rating   timestamp\n0       1   0114508       8  1381006850\n1       2   0208092       5  1586466072\n2       2   0358273       9  1579057827\n3       2  10039344       5  1578603053\n4       2   6751668       9  1578955697",
      "text/html": "<div>\n<style scoped>\n    .dataframe tbody tr th:only-of-type {\n        vertical-align: middle;\n    }\n\n    .dataframe tbody tr th {\n        vertical-align: top;\n    }\n\n    .dataframe thead th {\n        text-align: right;\n    }\n</style>\n<table border=\"1\" class=\"dataframe\">\n  <thead>\n    <tr style=\"text-align: right;\">\n      <th></th>\n      <th>user_id</th>\n      <th>movie_id</th>\n      <th>rating</th>\n      <th>timestamp</th>\n    </tr>\n  </thead>\n  <tbody>\n    <tr>\n      <th>0</th>\n      <td>1</td>\n      <td>0114508</td>\n      <td>8</td>\n      <td>1381006850</td>\n    </tr>\n    <tr>\n      <th>1</th>\n      <td>2</td>\n      <td>0208092</td>\n      <td>5</td>\n      <td>1586466072</td>\n    </tr>\n    <tr>\n      <th>2</th>\n      <td>2</td>\n      <td>0358273</td>\n      <td>9</td>\n      <td>1579057827</td>\n    </tr>\n    <tr>\n      <th>3</th>\n      <td>2</td>\n      <td>10039344</td>\n      <td>5</td>\n      <td>1578603053</td>\n    </tr>\n    <tr>\n      <th>4</th>\n      <td>2</td>\n      <td>6751668</td>\n      <td>9</td>\n      <td>1578955697</td>\n    </tr>\n  </tbody>\n</table>\n</div>"
     },
     "metadata": {},
     "execution_count": 3
    }
   ],
   "source": [
    "# cell for work\n",
    "reviews.head()"
   ]
  },
  {
   "cell_type": "code",
   "execution_count": 4,
   "metadata": {},
   "outputs": [
    {
     "output_type": "stream",
     "name": "stdout",
     "text": "No of movies 35353\nNo of unique genre 28\n"
    }
   ],
   "source": [
    "# Number of movies\n",
    "print(\"No of movies\",movies.movie.nunique())\n",
    "\n",
    "# Number of unique genre\n",
    "gen=[]\n",
    "for i in movies.genre:\n",
    "    try:\n",
    "        gen.extend(i.split(\"|\"))\n",
    "    except AttributeError:\n",
    "        pass\n",
    "gen=set(gen)\n",
    "print(\"No of unique genre\",len(gen))"
   ]
  },
  {
   "cell_type": "code",
   "execution_count": 5,
   "metadata": {},
   "outputs": [
    {
     "output_type": "stream",
     "name": "stdout",
     "text": "Ratings mean 7.315870214562017\nRatings max 10\nRatings min 0\nno. of ratings null value 0\n"
    }
   ],
   "source": [
    "print(\"Ratings mean\",reviews.rating.mean())\n",
    "print(\"Ratings max\",reviews.rating.max())\n",
    "print(\"Ratings min\",reviews.rating.min())\n",
    "print(\"no. of ratings null value\",reviews.rating.isna().sum(axis = 0))\n",
    ""
   ]
  },
  {
   "cell_type": "code",
   "execution_count": 6,
   "metadata": {},
   "outputs": [
    {
     "output_type": "error",
     "ename": "SyntaxError",
     "evalue": "invalid syntax (<ipython-input-6-0cfdee39ed6f>, line 6)",
     "traceback": [
      "\u001b[0;36m  File \u001b[0;32m\"<ipython-input-6-0cfdee39ed6f>\"\u001b[0;36m, line \u001b[0;32m6\u001b[0m\n\u001b[0;31m    'The number of ratings in the dataset':\u001b[0m\n\u001b[0m                                          ^\u001b[0m\n\u001b[0;31mSyntaxError\u001b[0m\u001b[0;31m:\u001b[0m invalid syntax\n"
     ]
    }
   ],
   "source": [
    "# Use your findings to match each variable to the correct statement in the dictionary\n",
    "\n",
    "\n",
    "dict_sol1 = {\n",
    "'The number of movies in the dataset': \n",
    "'The number of ratings in the dataset':\n",
    "'The number of different genres':\n",
    "'The number of unique users in the dataset':\n",
    "'The number missing ratings in the reviews dataset':\n",
    "'The average rating given across all ratings':\n",
    "'The minimum rating given across all ratings':\n",
    "'The maximum rating given across all ratings':\n",
    "}\n",
    "\n"
   ]
  },
  {
   "cell_type": "markdown",
   "metadata": {},
   "source": [
    "#### 2. Data Cleaning\n",
    "\n",
    "Next, we need to pull some additional relevant information out of the existing columns. \n",
    "\n",
    "For each of the datasets, there are a couple of cleaning steps we need to take care of:\n",
    "\n",
    "#### Movies\n",
    "* Pull the date from the title and create new column\n",
    "* Dummy the date column with 1's and 0's for each century of a movie (1800's, 1900's, and 2000's)\n",
    "* Dummy column the genre with 1's and 0's\n",
    "\n",
    "#### Reviews\n",
    "* Create a date out of time stamp\n",
    "\n",
    "You can check your results against the header of my solution by running the cell below with the **show_clean_dataframes** function."
   ]
  },
  {
   "cell_type": "code",
   "execution_count": 7,
   "metadata": {},
   "outputs": [
    {
     "output_type": "execute_result",
     "data": {
      "text/plain": "  movie_id                                           movie              genre  \\\n0  0000008         Edison Kinetoscopic Record of a Sneeze   Documentary|Short   \n1  0000010                   La sortie des usines Lumière   Documentary|Short   \n2  0000012                         The Arrival of a Train   Documentary|Short   \n3       25  The Oxford and Cambridge University Boat Race                 NaN   \n4  0000091                            Le manoir du diable        Short|Horror   \n\n   year binned  1800s  1900s  2000s  \n0  1894  1800s      1      0      0  \n1  1895  1800s      1      0      0  \n2  1896  1800s      1      0      0  \n3  1895  1800s      1      0      0  \n4  1896  1800s      1      0      0  ",
      "text/html": "<div>\n<style scoped>\n    .dataframe tbody tr th:only-of-type {\n        vertical-align: middle;\n    }\n\n    .dataframe tbody tr th {\n        vertical-align: top;\n    }\n\n    .dataframe thead th {\n        text-align: right;\n    }\n</style>\n<table border=\"1\" class=\"dataframe\">\n  <thead>\n    <tr style=\"text-align: right;\">\n      <th></th>\n      <th>movie_id</th>\n      <th>movie</th>\n      <th>genre</th>\n      <th>year</th>\n      <th>binned</th>\n      <th>1800s</th>\n      <th>1900s</th>\n      <th>2000s</th>\n    </tr>\n  </thead>\n  <tbody>\n    <tr>\n      <th>0</th>\n      <td>0000008</td>\n      <td>Edison Kinetoscopic Record of a Sneeze</td>\n      <td>Documentary|Short</td>\n      <td>1894</td>\n      <td>1800s</td>\n      <td>1</td>\n      <td>0</td>\n      <td>0</td>\n    </tr>\n    <tr>\n      <th>1</th>\n      <td>0000010</td>\n      <td>La sortie des usines Lumière</td>\n      <td>Documentary|Short</td>\n      <td>1895</td>\n      <td>1800s</td>\n      <td>1</td>\n      <td>0</td>\n      <td>0</td>\n    </tr>\n    <tr>\n      <th>2</th>\n      <td>0000012</td>\n      <td>The Arrival of a Train</td>\n      <td>Documentary|Short</td>\n      <td>1896</td>\n      <td>1800s</td>\n      <td>1</td>\n      <td>0</td>\n      <td>0</td>\n    </tr>\n    <tr>\n      <th>3</th>\n      <td>25</td>\n      <td>The Oxford and Cambridge University Boat Race</td>\n      <td>NaN</td>\n      <td>1895</td>\n      <td>1800s</td>\n      <td>1</td>\n      <td>0</td>\n      <td>0</td>\n    </tr>\n    <tr>\n      <th>4</th>\n      <td>0000091</td>\n      <td>Le manoir du diable</td>\n      <td>Short|Horror</td>\n      <td>1896</td>\n      <td>1800s</td>\n      <td>1</td>\n      <td>0</td>\n      <td>0</td>\n    </tr>\n  </tbody>\n</table>\n</div>"
     },
     "metadata": {},
     "execution_count": 7
    }
   ],
   "source": [
    "# and another\n",
    "movies['year']=movies['movie'].apply(lambda x:x.split('(')[1][:-1]).astype('int32')\n",
    "movies['movie']=movies['movie'].apply(lambda x:x.split('(')[0])\n",
    "bins = [1800,1900,2000,2050]\n",
    "labels = ['1800s','1900s','2000s']\n",
    "movies['binned'] = pd.cut(movies['year'],bins=bins, labels=labels)\n",
    "df=pd.get_dummies(movies['binned'])\n",
    "movies=pd.concat([movies,df],axis=1)\n",
    "movies.head()"
   ]
  },
  {
   "cell_type": "code",
   "execution_count": 8,
   "metadata": {},
   "outputs": [],
   "source": [
    "import re\n",
    "def search_gen(val):\n",
    "    try:\n",
    "        if val.find(i)>-1:\n",
    "            return 1\n",
    "        else:\n",
    "            return 0\n",
    "            \n",
    "    except AttributeError:\n",
    "        return 0"
   ]
  },
  {
   "cell_type": "code",
   "execution_count": 9,
   "metadata": {},
   "outputs": [],
   "source": [
    "for i in gen:\n",
    "    movies[i]=movies.genre.apply(search_gen)"
   ]
  },
  {
   "cell_type": "code",
   "execution_count": 10,
   "metadata": {},
   "outputs": [
    {
     "output_type": "execute_result",
     "data": {
      "text/plain": "  movie_id                                           movie              genre  \\\n0  0000008         Edison Kinetoscopic Record of a Sneeze   Documentary|Short   \n1  0000010                   La sortie des usines Lumière   Documentary|Short   \n2  0000012                         The Arrival of a Train   Documentary|Short   \n3       25  The Oxford and Cambridge University Boat Race                 NaN   \n4  0000091                            Le manoir du diable        Short|Horror   \n\n   year binned  1800s  1900s  2000s  Animation  Game-Show  ...  Talk-Show  \\\n0  1894  1800s      1      0      0          0          0  ...          0   \n1  1895  1800s      1      0      0          0          0  ...          0   \n2  1896  1800s      1      0      0          0          0  ...          0   \n3  1895  1800s      1      0      0          0          0  ...          0   \n4  1896  1800s      1      0      0          0          0  ...          0   \n\n   Short  Family  Romance  Adult  Crime  Music  Musical  Biography  Fantasy  \n0      1       0        0      0      0      0        0          0        0  \n1      1       0        0      0      0      0        0          0        0  \n2      1       0        0      0      0      0        0          0        0  \n3      0       0        0      0      0      0        0          0        0  \n4      1       0        0      0      0      0        0          0        0  \n\n[5 rows x 36 columns]",
      "text/html": "<div>\n<style scoped>\n    .dataframe tbody tr th:only-of-type {\n        vertical-align: middle;\n    }\n\n    .dataframe tbody tr th {\n        vertical-align: top;\n    }\n\n    .dataframe thead th {\n        text-align: right;\n    }\n</style>\n<table border=\"1\" class=\"dataframe\">\n  <thead>\n    <tr style=\"text-align: right;\">\n      <th></th>\n      <th>movie_id</th>\n      <th>movie</th>\n      <th>genre</th>\n      <th>year</th>\n      <th>binned</th>\n      <th>1800s</th>\n      <th>1900s</th>\n      <th>2000s</th>\n      <th>Animation</th>\n      <th>Game-Show</th>\n      <th>...</th>\n      <th>Talk-Show</th>\n      <th>Short</th>\n      <th>Family</th>\n      <th>Romance</th>\n      <th>Adult</th>\n      <th>Crime</th>\n      <th>Music</th>\n      <th>Musical</th>\n      <th>Biography</th>\n      <th>Fantasy</th>\n    </tr>\n  </thead>\n  <tbody>\n    <tr>\n      <th>0</th>\n      <td>0000008</td>\n      <td>Edison Kinetoscopic Record of a Sneeze</td>\n      <td>Documentary|Short</td>\n      <td>1894</td>\n      <td>1800s</td>\n      <td>1</td>\n      <td>0</td>\n      <td>0</td>\n      <td>0</td>\n      <td>0</td>\n      <td>...</td>\n      <td>0</td>\n      <td>1</td>\n      <td>0</td>\n      <td>0</td>\n      <td>0</td>\n      <td>0</td>\n      <td>0</td>\n      <td>0</td>\n      <td>0</td>\n      <td>0</td>\n    </tr>\n    <tr>\n      <th>1</th>\n      <td>0000010</td>\n      <td>La sortie des usines Lumière</td>\n      <td>Documentary|Short</td>\n      <td>1895</td>\n      <td>1800s</td>\n      <td>1</td>\n      <td>0</td>\n      <td>0</td>\n      <td>0</td>\n      <td>0</td>\n      <td>...</td>\n      <td>0</td>\n      <td>1</td>\n      <td>0</td>\n      <td>0</td>\n      <td>0</td>\n      <td>0</td>\n      <td>0</td>\n      <td>0</td>\n      <td>0</td>\n      <td>0</td>\n    </tr>\n    <tr>\n      <th>2</th>\n      <td>0000012</td>\n      <td>The Arrival of a Train</td>\n      <td>Documentary|Short</td>\n      <td>1896</td>\n      <td>1800s</td>\n      <td>1</td>\n      <td>0</td>\n      <td>0</td>\n      <td>0</td>\n      <td>0</td>\n      <td>...</td>\n      <td>0</td>\n      <td>1</td>\n      <td>0</td>\n      <td>0</td>\n      <td>0</td>\n      <td>0</td>\n      <td>0</td>\n      <td>0</td>\n      <td>0</td>\n      <td>0</td>\n    </tr>\n    <tr>\n      <th>3</th>\n      <td>25</td>\n      <td>The Oxford and Cambridge University Boat Race</td>\n      <td>NaN</td>\n      <td>1895</td>\n      <td>1800s</td>\n      <td>1</td>\n      <td>0</td>\n      <td>0</td>\n      <td>0</td>\n      <td>0</td>\n      <td>...</td>\n      <td>0</td>\n      <td>0</td>\n      <td>0</td>\n      <td>0</td>\n      <td>0</td>\n      <td>0</td>\n      <td>0</td>\n      <td>0</td>\n      <td>0</td>\n      <td>0</td>\n    </tr>\n    <tr>\n      <th>4</th>\n      <td>0000091</td>\n      <td>Le manoir du diable</td>\n      <td>Short|Horror</td>\n      <td>1896</td>\n      <td>1800s</td>\n      <td>1</td>\n      <td>0</td>\n      <td>0</td>\n      <td>0</td>\n      <td>0</td>\n      <td>...</td>\n      <td>0</td>\n      <td>1</td>\n      <td>0</td>\n      <td>0</td>\n      <td>0</td>\n      <td>0</td>\n      <td>0</td>\n      <td>0</td>\n      <td>0</td>\n      <td>0</td>\n    </tr>\n  </tbody>\n</table>\n<p>5 rows × 36 columns</p>\n</div>"
     },
     "metadata": {},
     "execution_count": 10
    }
   ],
   "source": [
    "movies.head()"
   ]
  },
  {
   "cell_type": "code",
   "execution_count": 11,
   "metadata": {},
   "outputs": [
    {
     "output_type": "execute_result",
     "data": {
      "text/plain": "movie_id                                       0000008\nmovie          Edison Kinetoscopic Record of a Sneeze \ngenre                                Documentary|Short\nyear                                              1894\nbinned                                           1800s\n1800s                                                1\n1900s                                                0\n2000s                                                0\nAnimation                                            0\nGame-Show                                            0\nFilm-Noir                                            0\nHistory                                              0\nSci-Fi                                               0\nWar                                                  0\nHorror                                               0\nMystery                                              0\nReality-TV                                           0\nThriller                                             0\nNews                                                 0\nAction                                               0\nSport                                                0\nComedy                                               0\nDrama                                                0\nAdventure                                            0\nDocumentary                                          1\nWestern                                              0\nTalk-Show                                            0\nShort                                                1\nFamily                                               0\nRomance                                              0\nAdult                                                0\nCrime                                                0\nMusic                                                0\nMusical                                              0\nBiography                                            0\nFantasy                                              0\nName: 0, dtype: object"
     },
     "metadata": {},
     "execution_count": 11
    }
   ],
   "source": [
    "movies.iloc[0]"
   ]
  },
  {
   "cell_type": "code",
   "execution_count": 12,
   "metadata": {},
   "outputs": [
    {
     "output_type": "execute_result",
     "data": {
      "text/plain": "  movie_id                                           movie              genre  \\\n0  0000008         Edison Kinetoscopic Record of a Sneeze   Documentary|Short   \n1  0000010                   La sortie des usines Lumière   Documentary|Short   \n2  0000012                         The Arrival of a Train   Documentary|Short   \n3       25  The Oxford and Cambridge University Boat Race                 NaN   \n4  0000091                            Le manoir du diable        Short|Horror   \n\n   year  1800s  1900s  2000s  Animation  Game-Show  Film-Noir  ...  Talk-Show  \\\n0  1894      1      0      0          0          0          0  ...          0   \n1  1895      1      0      0          0          0          0  ...          0   \n2  1896      1      0      0          0          0          0  ...          0   \n3  1895      1      0      0          0          0          0  ...          0   \n4  1896      1      0      0          0          0          0  ...          0   \n\n   Short  Family  Romance  Adult  Crime  Music  Musical  Biography  Fantasy  \n0      1       0        0      0      0      0        0          0        0  \n1      1       0        0      0      0      0        0          0        0  \n2      1       0        0      0      0      0        0          0        0  \n3      0       0        0      0      0      0        0          0        0  \n4      1       0        0      0      0      0        0          0        0  \n\n[5 rows x 35 columns]",
      "text/html": "<div>\n<style scoped>\n    .dataframe tbody tr th:only-of-type {\n        vertical-align: middle;\n    }\n\n    .dataframe tbody tr th {\n        vertical-align: top;\n    }\n\n    .dataframe thead th {\n        text-align: right;\n    }\n</style>\n<table border=\"1\" class=\"dataframe\">\n  <thead>\n    <tr style=\"text-align: right;\">\n      <th></th>\n      <th>movie_id</th>\n      <th>movie</th>\n      <th>genre</th>\n      <th>year</th>\n      <th>1800s</th>\n      <th>1900s</th>\n      <th>2000s</th>\n      <th>Animation</th>\n      <th>Game-Show</th>\n      <th>Film-Noir</th>\n      <th>...</th>\n      <th>Talk-Show</th>\n      <th>Short</th>\n      <th>Family</th>\n      <th>Romance</th>\n      <th>Adult</th>\n      <th>Crime</th>\n      <th>Music</th>\n      <th>Musical</th>\n      <th>Biography</th>\n      <th>Fantasy</th>\n    </tr>\n  </thead>\n  <tbody>\n    <tr>\n      <th>0</th>\n      <td>0000008</td>\n      <td>Edison Kinetoscopic Record of a Sneeze</td>\n      <td>Documentary|Short</td>\n      <td>1894</td>\n      <td>1</td>\n      <td>0</td>\n      <td>0</td>\n      <td>0</td>\n      <td>0</td>\n      <td>0</td>\n      <td>...</td>\n      <td>0</td>\n      <td>1</td>\n      <td>0</td>\n      <td>0</td>\n      <td>0</td>\n      <td>0</td>\n      <td>0</td>\n      <td>0</td>\n      <td>0</td>\n      <td>0</td>\n    </tr>\n    <tr>\n      <th>1</th>\n      <td>0000010</td>\n      <td>La sortie des usines Lumière</td>\n      <td>Documentary|Short</td>\n      <td>1895</td>\n      <td>1</td>\n      <td>0</td>\n      <td>0</td>\n      <td>0</td>\n      <td>0</td>\n      <td>0</td>\n      <td>...</td>\n      <td>0</td>\n      <td>1</td>\n      <td>0</td>\n      <td>0</td>\n      <td>0</td>\n      <td>0</td>\n      <td>0</td>\n      <td>0</td>\n      <td>0</td>\n      <td>0</td>\n    </tr>\n    <tr>\n      <th>2</th>\n      <td>0000012</td>\n      <td>The Arrival of a Train</td>\n      <td>Documentary|Short</td>\n      <td>1896</td>\n      <td>1</td>\n      <td>0</td>\n      <td>0</td>\n      <td>0</td>\n      <td>0</td>\n      <td>0</td>\n      <td>...</td>\n      <td>0</td>\n      <td>1</td>\n      <td>0</td>\n      <td>0</td>\n      <td>0</td>\n      <td>0</td>\n      <td>0</td>\n      <td>0</td>\n      <td>0</td>\n      <td>0</td>\n    </tr>\n    <tr>\n      <th>3</th>\n      <td>25</td>\n      <td>The Oxford and Cambridge University Boat Race</td>\n      <td>NaN</td>\n      <td>1895</td>\n      <td>1</td>\n      <td>0</td>\n      <td>0</td>\n      <td>0</td>\n      <td>0</td>\n      <td>0</td>\n      <td>...</td>\n      <td>0</td>\n      <td>0</td>\n      <td>0</td>\n      <td>0</td>\n      <td>0</td>\n      <td>0</td>\n      <td>0</td>\n      <td>0</td>\n      <td>0</td>\n      <td>0</td>\n    </tr>\n    <tr>\n      <th>4</th>\n      <td>0000091</td>\n      <td>Le manoir du diable</td>\n      <td>Short|Horror</td>\n      <td>1896</td>\n      <td>1</td>\n      <td>0</td>\n      <td>0</td>\n      <td>0</td>\n      <td>0</td>\n      <td>0</td>\n      <td>...</td>\n      <td>0</td>\n      <td>1</td>\n      <td>0</td>\n      <td>0</td>\n      <td>0</td>\n      <td>0</td>\n      <td>0</td>\n      <td>0</td>\n      <td>0</td>\n      <td>0</td>\n    </tr>\n  </tbody>\n</table>\n<p>5 rows × 35 columns</p>\n</div>"
     },
     "metadata": {},
     "execution_count": 12
    }
   ],
   "source": [
    "movies.drop('binned',axis=1,inplace=True)\n",
    "movies.head()"
   ]
  },
  {
   "cell_type": "code",
   "execution_count": null,
   "metadata": {},
   "outputs": [],
   "source": []
  },
  {
   "cell_type": "code",
   "execution_count": 13,
   "metadata": {},
   "outputs": [],
   "source": [
    "import datetime\n",
    "\n",
    "change_timestamp = lambda val: datetime.datetime.fromtimestamp(int(val)).strftime('%Y-%m-%d %H:%M:%S')\n",
    "\n",
    "reviews['date'] = reviews['timestamp'].apply(change_timestamp)"
   ]
  },
  {
   "cell_type": "code",
   "execution_count": 14,
   "metadata": {},
   "outputs": [
    {
     "output_type": "execute_result",
     "data": {
      "text/plain": "       user_id  movie_id  rating   timestamp                 date\n0            1   0114508       8  1381006850  2013-10-05 17:00:50\n1            2   0208092       5  1586466072  2020-04-09 17:01:12\n2            2   0358273       9  1579057827  2020-01-14 22:10:27\n3            2  10039344       5  1578603053  2020-01-09 15:50:53\n4            2   6751668       9  1578955697  2020-01-13 17:48:17\n...        ...       ...     ...         ...                  ...\n862403   67225   9071322       5  1580517448  2020-01-31 19:37:28\n862404   67225   9898858       3  1585958452  2020-04-03 20:00:52\n862405   67226   0172495      10  1587107015  2020-04-17 03:03:35\n862406   67226   0414387      10  1587107852  2020-04-17 03:17:32\n862407   67227   1623205       6  1362832655  2013-03-09 07:37:35\n\n[862408 rows x 5 columns]",
      "text/html": "<div>\n<style scoped>\n    .dataframe tbody tr th:only-of-type {\n        vertical-align: middle;\n    }\n\n    .dataframe tbody tr th {\n        vertical-align: top;\n    }\n\n    .dataframe thead th {\n        text-align: right;\n    }\n</style>\n<table border=\"1\" class=\"dataframe\">\n  <thead>\n    <tr style=\"text-align: right;\">\n      <th></th>\n      <th>user_id</th>\n      <th>movie_id</th>\n      <th>rating</th>\n      <th>timestamp</th>\n      <th>date</th>\n    </tr>\n  </thead>\n  <tbody>\n    <tr>\n      <th>0</th>\n      <td>1</td>\n      <td>0114508</td>\n      <td>8</td>\n      <td>1381006850</td>\n      <td>2013-10-05 17:00:50</td>\n    </tr>\n    <tr>\n      <th>1</th>\n      <td>2</td>\n      <td>0208092</td>\n      <td>5</td>\n      <td>1586466072</td>\n      <td>2020-04-09 17:01:12</td>\n    </tr>\n    <tr>\n      <th>2</th>\n      <td>2</td>\n      <td>0358273</td>\n      <td>9</td>\n      <td>1579057827</td>\n      <td>2020-01-14 22:10:27</td>\n    </tr>\n    <tr>\n      <th>3</th>\n      <td>2</td>\n      <td>10039344</td>\n      <td>5</td>\n      <td>1578603053</td>\n      <td>2020-01-09 15:50:53</td>\n    </tr>\n    <tr>\n      <th>4</th>\n      <td>2</td>\n      <td>6751668</td>\n      <td>9</td>\n      <td>1578955697</td>\n      <td>2020-01-13 17:48:17</td>\n    </tr>\n    <tr>\n      <th>...</th>\n      <td>...</td>\n      <td>...</td>\n      <td>...</td>\n      <td>...</td>\n      <td>...</td>\n    </tr>\n    <tr>\n      <th>862403</th>\n      <td>67225</td>\n      <td>9071322</td>\n      <td>5</td>\n      <td>1580517448</td>\n      <td>2020-01-31 19:37:28</td>\n    </tr>\n    <tr>\n      <th>862404</th>\n      <td>67225</td>\n      <td>9898858</td>\n      <td>3</td>\n      <td>1585958452</td>\n      <td>2020-04-03 20:00:52</td>\n    </tr>\n    <tr>\n      <th>862405</th>\n      <td>67226</td>\n      <td>0172495</td>\n      <td>10</td>\n      <td>1587107015</td>\n      <td>2020-04-17 03:03:35</td>\n    </tr>\n    <tr>\n      <th>862406</th>\n      <td>67226</td>\n      <td>0414387</td>\n      <td>10</td>\n      <td>1587107852</td>\n      <td>2020-04-17 03:17:32</td>\n    </tr>\n    <tr>\n      <th>862407</th>\n      <td>67227</td>\n      <td>1623205</td>\n      <td>6</td>\n      <td>1362832655</td>\n      <td>2013-03-09 07:37:35</td>\n    </tr>\n  </tbody>\n</table>\n<p>862408 rows × 5 columns</p>\n</div>"
     },
     "metadata": {},
     "execution_count": 14
    }
   ],
   "source": [
    "reviews"
   ]
  },
  {
   "cell_type": "code",
   "execution_count": 15,
   "metadata": {},
   "outputs": [],
   "source": [
    "reviews.to_csv('reviews_clean.csv')\n",
    "movies.to_csv('movies_clean.csv')"
   ]
  },
  {
   "cell_type": "code",
   "execution_count": null,
   "metadata": {},
   "outputs": [],
   "source": []
  }
 ],
 "metadata": {
  "kernelspec": {
   "display_name": "Python 3",
   "language": "python",
   "name": "python3"
  },
  "language_info": {
   "codemirror_mode": {
    "name": "ipython",
    "version": 3
   },
   "file_extension": ".py",
   "mimetype": "text/x-python",
   "name": "python",
   "nbconvert_exporter": "python",
   "pygments_lexer": "ipython3",
   "version": "3.7.7-final"
  }
 },
 "nbformat": 4,
 "nbformat_minor": 2
}